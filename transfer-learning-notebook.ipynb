{
  "nbformat": 4,
  "nbformat_minor": 0,
  "metadata": {
    "accelerator": "GPU",
    "colab": {
      "name": "Assignment 3 CV.ipynb",
      "provenance": [],
      "collapsed_sections": [],
      "toc_visible": true
    },
    "kernelspec": {
      "display_name": "Python 3",
      "name": "python3"
    }
  },
  "cells": [
    {
      "cell_type": "markdown",
      "metadata": {
        "id": "4XGwjq3toOFn"
      },
      "source": [
        "#Data Loading and Pre-processing"
      ]
    },
    {
      "cell_type": "code",
      "metadata": {
        "id": "d8CK7Z6H7uw3"
      },
      "source": [
        "# necessary imports\n",
        "import os\n",
        "import cv2\n",
        "import numpy as np\n",
        "from imutils import paths\n",
        "from sklearn.preprocessing import LabelBinarizer\n",
        "from tqdm import tqdm"
      ],
      "execution_count": 1,
      "outputs": []
    },
    {
      "cell_type": "code",
      "metadata": {
        "id": "m05Uozoe7wFs"
      },
      "source": [
        "# A function to load data from a given directory\n",
        "def load_data(data_dir):\n",
        "  data = []\n",
        "  labels = []\n",
        "  class_dirs = os.listdir(data_dir)\n",
        "  \n",
        "  for direc in class_dirs:\n",
        "    class_dir = os.path.join(data_dir, direc)\n",
        "    for imagepath in tqdm(list(paths.list_images(class_dir))):\n",
        "      image = cv2.imread(imagepath)\n",
        "      image = cv2.resize(image, (75, 75))  # resizing for uniform size and colab crash issue\n",
        "      data.append(image)\n",
        "      labels.append(direc)\n",
        "  # normalizing and converting to numpy array format\n",
        "  data = np.array(data, dtype='float')/255.0\n",
        "  labels = np.array(labels)\n",
        "  return data, labels"
      ],
      "execution_count": 2,
      "outputs": []
    },
    {
      "cell_type": "code",
      "metadata": {
        "id": "9Mdqfqr7rsQd"
      },
      "source": [
        "train_dir = \"/content/drive/MyDrive/Image-Classification-Dataset/seg_train/seg_train/\"\n",
        "test_dir = \"/content/drive/MyDrive/Image-Classification-Dataset/seg_test/seg_test/\"\n",
        "pred_dir = \"/content/drive/MyDrive/Image-Classification-Dataset/test/test/\""
      ],
      "execution_count": 3,
      "outputs": []
    },
    {
      "cell_type": "code",
      "metadata": {
        "colab": {
          "base_uri": "https://localhost:8080/",
          "height": 0
        },
        "id": "9psYEyICrvA0",
        "outputId": "93ef1f4c-e535-49ef-abc2-0bc6a059c523"
      },
      "source": [
        "print('loading train images')\n",
        "X_train, y_train = load_data(train_dir)"
      ],
      "execution_count": 4,
      "outputs": [
        {
          "output_type": "stream",
          "text": [
            "loading train images\n"
          ],
          "name": "stdout"
        },
        {
          "output_type": "stream",
          "text": [
            "100%|██████████| 2191/2191 [20:50<00:00,  1.75it/s]\n",
            "100%|██████████| 2271/2271 [20:26<00:00,  1.85it/s]\n",
            "100%|██████████| 2404/2404 [21:33<00:00,  1.86it/s]\n",
            "100%|██████████| 2512/2512 [21:11<00:00,  1.98it/s]\n",
            "100%|██████████| 2382/2382 [20:19<00:00,  1.95it/s]\n",
            "100%|██████████| 2274/2274 [20:26<00:00,  1.85it/s]\n"
          ],
          "name": "stderr"
        }
      ]
    },
    {
      "cell_type": "code",
      "metadata": {
        "id": "5R48bcJ1rwbS",
        "colab": {
          "base_uri": "https://localhost:8080/",
          "height": 0
        },
        "outputId": "4500c4c7-3936-43b6-cc51-1d1e6c80650c"
      },
      "source": [
        "print('loading validation images')\n",
        "X_valid, y_valid = load_data(test_dir)"
      ],
      "execution_count": 5,
      "outputs": [
        {
          "output_type": "stream",
          "text": [
            "loading validation images\n"
          ],
          "name": "stdout"
        },
        {
          "output_type": "stream",
          "text": [
            "100%|██████████| 437/437 [03:40<00:00,  1.98it/s]\n",
            "100%|██████████| 474/474 [03:55<00:00,  2.01it/s]\n",
            "100%|██████████| 553/553 [04:41<00:00,  1.96it/s]\n",
            "100%|██████████| 510/510 [04:09<00:00,  2.04it/s]\n",
            "100%|██████████| 525/525 [04:13<00:00,  2.07it/s]\n",
            "100%|██████████| 501/501 [04:12<00:00,  1.98it/s]\n"
          ],
          "name": "stderr"
        }
      ]
    },
    {
      "cell_type": "code",
      "metadata": {
        "id": "PcGjOH3G_YA7"
      },
      "source": [
        "lb = LabelBinarizer()\n",
        "y_train = lb.fit_transform(y_train)\n",
        "y_valid = lb.fit_transform(y_valid)"
      ],
      "execution_count": 6,
      "outputs": []
    },
    {
      "cell_type": "code",
      "metadata": {
        "id": "DqyVY_job0aW"
      },
      "source": [
        "# Function to plot confusion matrix    \n",
        "from sklearn.metrics import confusion_matrix\n",
        "import itertools\n",
        "import matplotlib.pyplot as plt\n",
        "\n",
        "\n",
        "def plot_confusion_matrix(cm, classes,\n",
        "                          normalize=False,\n",
        "                          title='Confusion matrix',\n",
        "                          cmap=plt.cm.Blues):\n",
        "    \"\"\"\n",
        "    This function prints and plots the confusion matrix.\n",
        "    Normalization can be applied by setting `normalize=True`.\n",
        "    \"\"\"\n",
        "    plt.imshow(cm, interpolation='nearest', cmap=cmap)\n",
        "    plt.title(title)\n",
        "    plt.colorbar()\n",
        "    tick_marks = np.arange(len(classes))\n",
        "    plt.xticks(tick_marks, classes, rotation=45)\n",
        "    plt.yticks(tick_marks, classes)\n",
        "\n",
        "    if normalize:\n",
        "        cm = cm.astype('float') / cm.sum(axis=1)[:, np.newaxis]\n",
        "\n",
        "    thresh = cm.max() / 2.\n",
        "    for i, j in itertools.product(range(cm.shape[0]), range(cm.shape[1])):\n",
        "        plt.text(j, i, cm[i, j],\n",
        "                 horizontalalignment=\"center\",\n",
        "                 color=\"white\" if cm[i, j] > thresh else \"black\")\n",
        "\n",
        "    plt.tight_layout()\n",
        "    plt.ylabel('True label')\n",
        "    plt.xlabel('Predicted label')"
      ],
      "execution_count": 7,
      "outputs": []
    },
    {
      "cell_type": "markdown",
      "metadata": {
        "id": "fSinVFCCbrn_"
      },
      "source": [
        "#VGG16 Model"
      ]
    },
    {
      "cell_type": "code",
      "metadata": {
        "id": "eDuE7UTw57nz"
      },
      "source": [
        "from keras.applications.vgg16 import VGG16\n",
        "from keras.models import Model\n",
        "from keras.layers import Dense\n",
        "from keras.layers import Flatten"
      ],
      "execution_count": 8,
      "outputs": []
    },
    {
      "cell_type": "code",
      "metadata": {
        "id": "nax0sO545_3I",
        "colab": {
          "base_uri": "https://localhost:8080/",
          "height": 0
        },
        "outputId": "3556fb0a-616d-49c2-c821-ede2bb0e4cfd"
      },
      "source": [
        "# load VGG16 model without classification layers\n",
        "vgg16 = VGG16(include_top=False, input_shape=(75, 75, 3))"
      ],
      "execution_count": 9,
      "outputs": [
        {
          "output_type": "stream",
          "text": [
            "Downloading data from https://storage.googleapis.com/tensorflow/keras-applications/vgg16/vgg16_weights_tf_dim_ordering_tf_kernels_notop.h5\n",
            "58892288/58889256 [==============================] - 0s 0us/step\n"
          ],
          "name": "stdout"
        }
      ]
    },
    {
      "cell_type": "code",
      "metadata": {
        "id": "3aX0a6hs6BJH"
      },
      "source": [
        "# add new classification layers\n",
        "flat1 = Flatten()(vgg16.layers[-1].output) # flatten last layer\n",
        "class1 = Dense(1024, activation='relu')(flat1) # add FC layer on previous layer\n",
        "class1 = Dense(512, activation='relu')(flat1) # add FC layer on previous layer\n",
        "output = Dense(6, activation='softmax')(class1) # add softmax layer"
      ],
      "execution_count": 10,
      "outputs": []
    },
    {
      "cell_type": "code",
      "metadata": {
        "id": "RlniHAN67twE"
      },
      "source": [
        "# define the new model\n",
        "vgg16model = Model(inputs=vgg16.inputs, outputs=output)\n",
        "for layer in vgg16.layers:\n",
        "  layer.trainable = False"
      ],
      "execution_count": 11,
      "outputs": []
    },
    {
      "cell_type": "code",
      "metadata": {
        "id": "LTPdPi8uEJ_D"
      },
      "source": [
        "from keras.callbacks import ReduceLROnPlateau, EarlyStopping\n",
        "lr_reduction = ReduceLROnPlateau(monitor='val_accuracy', \n",
        "                                            patience=3, \n",
        "                                            verbose=1, \n",
        "                                            factor=0.5, \n",
        "                                            min_lr=0.00001)\n",
        "#Early stopping if training Val_loss doesn't reduce for 7 epochs\n",
        "es = EarlyStopping(monitor='val_loss', patience=6)"
      ],
      "execution_count": 14,
      "outputs": []
    },
    {
      "cell_type": "code",
      "metadata": {
        "id": "jjn0kPzQ_fWV"
      },
      "source": [
        "from keras.optimizers import SGD, Adam\n",
        "# sgd = SGD(lr=0.001, decay=1e-7, momentum=.9)\n",
        "adam = Adam(learning_rate=0.0001)\n",
        "\n",
        "\n",
        "vgg16model.compile(loss='categorical_crossentropy', \n",
        "              optimizer=adam,\n",
        "              metrics=['accuracy'])\n"
      ],
      "execution_count": 15,
      "outputs": []
    },
    {
      "cell_type": "code",
      "metadata": {
        "colab": {
          "base_uri": "https://localhost:8080/",
          "height": 0
        },
        "id": "kdPhqRf4BlDE",
        "outputId": "752390c1-3542-41e3-b8c5-c5359de5dafe"
      },
      "source": [
        "#training the model\n",
        "H = vgg16model.fit(X_train, y_train, batch_size=64,\n",
        "              epochs=200,\n",
        "              validation_data=(X_valid, y_valid),\n",
        "              callbacks = [lr_reduction, es])     "
      ],
      "execution_count": 16,
      "outputs": [
        {
          "output_type": "stream",
          "text": [
            "Epoch 1/200\n",
            "220/220 [==============================] - 18s 48ms/step - loss: 1.0275 - accuracy: 0.6590 - val_loss: 0.5423 - val_accuracy: 0.8043\n",
            "Epoch 2/200\n",
            "220/220 [==============================] - 9s 43ms/step - loss: 0.5138 - accuracy: 0.8157 - val_loss: 0.4908 - val_accuracy: 0.8167\n",
            "Epoch 3/200\n",
            "220/220 [==============================] - 10s 44ms/step - loss: 0.4612 - accuracy: 0.8305 - val_loss: 0.4578 - val_accuracy: 0.8340\n",
            "Epoch 4/200\n",
            "220/220 [==============================] - 10s 44ms/step - loss: 0.4229 - accuracy: 0.8471 - val_loss: 0.4515 - val_accuracy: 0.8427\n",
            "Epoch 5/200\n",
            "220/220 [==============================] - 10s 44ms/step - loss: 0.3969 - accuracy: 0.8604 - val_loss: 0.4382 - val_accuracy: 0.8417\n",
            "Epoch 6/200\n",
            "220/220 [==============================] - 10s 44ms/step - loss: 0.3712 - accuracy: 0.8678 - val_loss: 0.4350 - val_accuracy: 0.8407\n",
            "Epoch 7/200\n",
            "220/220 [==============================] - 10s 45ms/step - loss: 0.3697 - accuracy: 0.8662 - val_loss: 0.4238 - val_accuracy: 0.8440\n",
            "Epoch 8/200\n",
            "220/220 [==============================] - 10s 45ms/step - loss: 0.3495 - accuracy: 0.8748 - val_loss: 0.4157 - val_accuracy: 0.8480\n",
            "Epoch 9/200\n",
            "220/220 [==============================] - 10s 46ms/step - loss: 0.3316 - accuracy: 0.8815 - val_loss: 0.4175 - val_accuracy: 0.8467\n",
            "Epoch 10/200\n",
            "220/220 [==============================] - 10s 46ms/step - loss: 0.3266 - accuracy: 0.8839 - val_loss: 0.4234 - val_accuracy: 0.8467\n",
            "Epoch 11/200\n",
            "220/220 [==============================] - 10s 46ms/step - loss: 0.3113 - accuracy: 0.8906 - val_loss: 0.4244 - val_accuracy: 0.8483\n",
            "Epoch 12/200\n",
            "220/220 [==============================] - 10s 47ms/step - loss: 0.3035 - accuracy: 0.8931 - val_loss: 0.4206 - val_accuracy: 0.8473\n",
            "Epoch 13/200\n",
            "220/220 [==============================] - 10s 48ms/step - loss: 0.2870 - accuracy: 0.9019 - val_loss: 0.4307 - val_accuracy: 0.8437\n",
            "Epoch 14/200\n",
            "220/220 [==============================] - 11s 49ms/step - loss: 0.2796 - accuracy: 0.9016 - val_loss: 0.4160 - val_accuracy: 0.8473\n",
            "\n",
            "Epoch 00014: ReduceLROnPlateau reducing learning rate to 4.999999873689376e-05.\n"
          ],
          "name": "stdout"
        }
      ]
    },
    {
      "cell_type": "code",
      "metadata": {
        "colab": {
          "base_uri": "https://localhost:8080/",
          "height": 0
        },
        "id": "KOK2CT5K_ugP",
        "outputId": "3476cb0a-5286-482b-e19f-f683e9ab5578"
      },
      "source": [
        "print('loading test images')\n",
        "x_test, y_test = load_data(pred_dir)"
      ],
      "execution_count": 17,
      "outputs": [
        {
          "output_type": "stream",
          "text": [
            "loading test images\n"
          ],
          "name": "stdout"
        },
        {
          "output_type": "stream",
          "text": [
            "100%|██████████| 1128/1128 [09:46<00:00,  1.92it/s]\n",
            "100%|██████████| 1166/1166 [10:09<00:00,  1.91it/s]\n",
            "100%|██████████| 1297/1297 [11:12<00:00,  1.93it/s]\n",
            "100%|██████████| 1237/1237 [10:28<00:00,  1.97it/s]\n",
            "100%|██████████| 1144/1144 [09:43<00:00,  1.96it/s]\n",
            "100%|██████████| 1330/1330 [11:46<00:00,  1.88it/s]\n"
          ],
          "name": "stderr"
        }
      ]
    },
    {
      "cell_type": "code",
      "metadata": {
        "id": "3gwBXk1rfGk_"
      },
      "source": [
        "y_test = lb.fit_transform(y_test)"
      ],
      "execution_count": 18,
      "outputs": []
    },
    {
      "cell_type": "code",
      "metadata": {
        "colab": {
          "base_uri": "https://localhost:8080/",
          "height": 0
        },
        "id": "eq5T86Hir710",
        "outputId": "79fc1e80-05e0-4422-e5e7-5ee6b16e8eff"
      },
      "source": [
        "lossvgg, accuracyvgg = vgg16model.evaluate(x_test, y_test, verbose=1, batch_size = 16)\n",
        "lossvgg_v, accuracyvgg_v = vgg16model.evaluate(X_valid, y_valid, verbose=1)\n",
        "print(\"Validation: accuracy = %f  ;  loss_v = %f\" % (accuracyvgg_v, lossvgg_v))\n",
        "print(\"Test: accuracy = %f  ;  loss = %f\" % (accuracyvgg, lossvgg))\n",
        "vgg16model.save(\"/content/vggmodel.h5\")"
      ],
      "execution_count": 19,
      "outputs": [
        {
          "output_type": "stream",
          "text": [
            "457/457 [==============================] - 7s 14ms/step - loss: 0.3480 - accuracy: 0.8680\n",
            "94/94 [==============================] - 3s 25ms/step - loss: 0.4160 - accuracy: 0.8473\n",
            "Validation: accuracy = 0.847333  ;  loss_v = 0.415972\n",
            "Test: accuracy = 0.867981  ;  loss = 0.348040\n"
          ],
          "name": "stdout"
        }
      ]
    },
    {
      "cell_type": "code",
      "metadata": {
        "colab": {
          "base_uri": "https://localhost:8080/",
          "height": 279
        },
        "id": "w2MqtJ12ffTA",
        "outputId": "67489817-8c0f-43ad-f9c7-d918aa916e92"
      },
      "source": [
        "plt.plot(H.history['loss'],\n",
        "         label='Train Loss',\n",
        "         c='maroon', ls='-')\n",
        "plt.plot(H.history['val_loss'],\n",
        "         label='Validation Loss',\n",
        "         c='green',ls='-')\n",
        " \n",
        "plt.xlabel('Epoch')\n",
        "plt.ylabel('loss')\n",
        "plt.legend(loc='upper left')\n",
        "plt.savefig('/content/vgg16plot.png')\n",
        "plt.show()"
      ],
      "execution_count": 20,
      "outputs": [
        {
          "output_type": "display_data",
          "data": {
            "image/png": "[encoded data removed]",
            "text/plain": [
              "<Figure size 432x288 with 1 Axes>"
            ]
          },
          "metadata": {
            "tags": [],
            "needs_background": "light"
          }
        }
      ]
    },
    {
      "cell_type": "code",
      "metadata": {
        "colab": {
          "base_uri": "https://localhost:8080/",
          "height": 311
        },
        "id": "56ociiBnsEH5",
        "outputId": "b27ed4b1-0ad4-493f-8dce-3c895437fecc"
      },
      "source": [
        "# Predict the values from the validation dataset\n",
        "Y_predvgg = vgg16model.predict(x_test)\n",
        "# Convert predictions classes to one hot vectors \n",
        "Y_predvgg_classes = np.argmax(Y_predvgg,axis = 1) \n",
        "# Convert validation observations to one hot vectors\n",
        "Y_true = np.argmax(y_test,axis = 1) \n",
        "# compute the confusion matrix\n",
        "conf_matvgg = confusion_matrix(Y_true, Y_predvgg_classes)\n",
        "\n",
        " \n",
        "\n",
        "# plot the confusion matrix\n",
        "plot_confusion_matrix(conf_matvgg, classes = range(6)) "
      ],
      "execution_count": 21,
      "outputs": [
        {
          "output_type": "display_data",
          "data": {
            "image/png": "[encoded data removed]",
            "text/plain": [
              "<Figure size 432x288 with 2 Axes>"
            ]
          },
          "metadata": {
            "tags": [],
            "needs_background": "light"
          }
        }
      ]
    },
    {
      "cell_type": "code",
      "metadata": {
        "colab": {
          "base_uri": "https://localhost:8080/",
          "height": 0
        },
        "id": "Hz6-6vILL3vC",
        "outputId": "3aa202a2-0529-40e1-d7ab-6a86664b46ad"
      },
      "source": [
        "from sklearn.metrics import classification_report\n",
        "print(classification_report(Y_true, Y_predvgg_classes, target_names=[\"Building\",\"Forest\", \"Glacier\", 'Mountain', 'Sea', 'street']))"
      ],
      "execution_count": 22,
      "outputs": [
        {
          "output_type": "stream",
          "text": [
            "              precision    recall  f1-score   support\n",
            "\n",
            "    Building       0.88      0.89      0.89      1144\n",
            "      Forest       0.95      0.97      0.96      1166\n",
            "     Glacier       0.89      0.74      0.81      1330\n",
            "    Mountain       0.77      0.86      0.81      1297\n",
            "         Sea       0.84      0.88      0.86      1128\n",
            "      street       0.89      0.89      0.89      1237\n",
            "\n",
            "    accuracy                           0.87      7302\n",
            "   macro avg       0.87      0.87      0.87      7302\n",
            "weighted avg       0.87      0.87      0.87      7302\n",
            "\n"
          ],
          "name": "stdout"
        }
      ]
    },
    {
      "cell_type": "code",
      "metadata": {
        "colab": {
          "base_uri": "https://localhost:8080/",
          "height": 296
        },
        "id": "TgN0mESAsGmN",
        "outputId": "31d25c55-3379-4dc3-ed06-a08988dd299f"
      },
      "source": [
        "label_frac_error = 1 - np.diag(conf_matvgg) / np.sum(conf_matvgg, axis=1)\n",
        "plt.bar(np.arange(6),label_frac_error)\n",
        "plt.xlabel('True Label')\n",
        "plt.ylabel('Fraction classified incorrectly')"
      ],
      "execution_count": 23,
      "outputs": [
        {
          "output_type": "execute_result",
          "data": {
            "text/plain": [
              "Text(0, 0.5, 'Fraction classified incorrectly')"
            ]
          },
          "metadata": {
            "tags": []
          },
          "execution_count": 23
        },
        {
          "output_type": "display_data",
          "data": {
            "image/png": "[encoded data removed]",
            "text/plain": [
              "<Figure size 432x288 with 1 Axes>"
            ]
          },
          "metadata": {
            "tags": [],
            "needs_background": "light"
          }
        }
      ]
    },
    {
      "cell_type": "markdown",
      "metadata": {
        "id": "B8Im3i6hcFJw"
      },
      "source": [
        "#ResNet50 Model"
      ]
    },
    {
      "cell_type": "code",
      "metadata": {
        "id": "AEmmdcy7IcS3",
        "colab": {
          "base_uri": "https://localhost:8080/",
          "height": 0
        },
        "outputId": "02d813e5-d390-4c1c-cf8a-18b51d260bda"
      },
      "source": [
        "from keras.applications.resnet50 import ResNet50\n",
        "# load ResNet50 model without classification layers\n",
        "resnet50 = ResNet50(include_top=False, input_shape=(75, 75, 3))"
      ],
      "execution_count": 24,
      "outputs": [
        {
          "output_type": "stream",
          "text": [
            "Downloading data from https://storage.googleapis.com/tensorflow/keras-applications/resnet/resnet50_weights_tf_dim_ordering_tf_kernels_notop.h5\n",
            "94773248/94765736 [==============================] - 1s 0us/step\n"
          ],
          "name": "stdout"
        }
      ]
    },
    {
      "cell_type": "code",
      "metadata": {
        "id": "0VT8dvj4dFyO"
      },
      "source": [
        "# add new classification layers\n",
        "flat1 = Flatten()(resnet50.layers[-1].output) # flatten last layer\n",
        "class1 = Dense(1024, activation='relu')(flat1) # add FC layer on previous layer\n",
        "class1 = Dense(512, activation='relu')(flat1) # add FC layer on previous layer\n",
        "output = Dense(6, activation='softmax')(class1) # add softmax layer"
      ],
      "execution_count": 25,
      "outputs": []
    },
    {
      "cell_type": "code",
      "metadata": {
        "id": "pBz5TwlCen00"
      },
      "source": [
        "# define the new model\n",
        "resnetmodel = Model(inputs=resnet50.inputs, outputs=output)\n",
        "for layer in resnet50.layers:\n",
        "  layer.trainable = False"
      ],
      "execution_count": 26,
      "outputs": []
    },
    {
      "cell_type": "code",
      "metadata": {
        "id": "mtR1aNz2ewtn"
      },
      "source": [
        "resnetmodel.compile(loss='categorical_crossentropy', \n",
        "              optimizer=adam,\n",
        "              metrics=['accuracy'])"
      ],
      "execution_count": 27,
      "outputs": []
    },
    {
      "cell_type": "code",
      "metadata": {
        "colab": {
          "base_uri": "https://localhost:8080/",
          "height": 0
        },
        "id": "71MlJ5TPe2jn",
        "outputId": "45a1bab8-0c24-4043-efb2-83f3896badfa"
      },
      "source": [
        "#training the model\n",
        "H_resnet = resnetmodel.fit(X_train, y_train, batch_size=64,\n",
        "              epochs=200, \n",
        "              validation_data=(X_valid, y_valid),\n",
        "              callbacks = [lr_reduction, es])"
      ],
      "execution_count": 29,
      "outputs": [
        {
          "output_type": "stream",
          "text": [
            "Epoch 1/200\n",
            "220/220 [==============================] - 10s 46ms/step - loss: 1.2504 - accuracy: 0.5179 - val_loss: 1.1695 - val_accuracy: 0.5500\n",
            "Epoch 2/200\n",
            "220/220 [==============================] - 9s 40ms/step - loss: 1.1015 - accuracy: 0.5783 - val_loss: 1.0853 - val_accuracy: 0.5870\n",
            "Epoch 3/200\n",
            "220/220 [==============================] - 9s 41ms/step - loss: 1.0422 - accuracy: 0.6082 - val_loss: 1.0440 - val_accuracy: 0.5993\n",
            "Epoch 4/200\n",
            "220/220 [==============================] - 9s 41ms/step - loss: 1.0048 - accuracy: 0.6256 - val_loss: 1.0233 - val_accuracy: 0.6090\n",
            "Epoch 5/200\n",
            "220/220 [==============================] - 9s 41ms/step - loss: 0.9846 - accuracy: 0.6310 - val_loss: 0.9954 - val_accuracy: 0.6303\n",
            "Epoch 6/200\n",
            "220/220 [==============================] - 9s 42ms/step - loss: 0.9624 - accuracy: 0.6408 - val_loss: 1.0141 - val_accuracy: 0.6040\n",
            "Epoch 7/200\n",
            "220/220 [==============================] - 9s 42ms/step - loss: 0.9408 - accuracy: 0.6496 - val_loss: 0.9688 - val_accuracy: 0.6397\n",
            "Epoch 8/200\n",
            "220/220 [==============================] - 9s 42ms/step - loss: 0.9269 - accuracy: 0.6573 - val_loss: 0.9633 - val_accuracy: 0.6353\n",
            "Epoch 9/200\n",
            "220/220 [==============================] - 9s 42ms/step - loss: 0.9179 - accuracy: 0.6573 - val_loss: 0.9586 - val_accuracy: 0.6300\n",
            "Epoch 10/200\n",
            "220/220 [==============================] - 9s 42ms/step - loss: 0.9045 - accuracy: 0.6637 - val_loss: 0.9339 - val_accuracy: 0.6437\n",
            "Epoch 11/200\n",
            "220/220 [==============================] - 9s 42ms/step - loss: 0.8895 - accuracy: 0.6718 - val_loss: 0.9320 - val_accuracy: 0.6453\n",
            "Epoch 12/200\n",
            "220/220 [==============================] - 9s 42ms/step - loss: 0.8827 - accuracy: 0.6732 - val_loss: 0.9221 - val_accuracy: 0.6510\n",
            "Epoch 13/200\n",
            "220/220 [==============================] - 9s 42ms/step - loss: 0.8735 - accuracy: 0.6778 - val_loss: 0.9300 - val_accuracy: 0.6470\n",
            "Epoch 14/200\n",
            "220/220 [==============================] - 9s 42ms/step - loss: 0.8699 - accuracy: 0.6759 - val_loss: 0.9191 - val_accuracy: 0.6520\n",
            "Epoch 15/200\n",
            "220/220 [==============================] - 9s 42ms/step - loss: 0.8597 - accuracy: 0.6828 - val_loss: 0.9278 - val_accuracy: 0.6510\n",
            "Epoch 16/200\n",
            "220/220 [==============================] - 9s 42ms/step - loss: 0.8550 - accuracy: 0.6865 - val_loss: 0.9285 - val_accuracy: 0.6407\n",
            "Epoch 17/200\n",
            "220/220 [==============================] - 9s 42ms/step - loss: 0.8448 - accuracy: 0.6886 - val_loss: 0.8899 - val_accuracy: 0.6643\n",
            "Epoch 18/200\n",
            "220/220 [==============================] - 9s 42ms/step - loss: 0.8397 - accuracy: 0.6912 - val_loss: 0.8884 - val_accuracy: 0.6770\n",
            "Epoch 19/200\n",
            "220/220 [==============================] - 9s 42ms/step - loss: 0.8336 - accuracy: 0.6895 - val_loss: 0.8864 - val_accuracy: 0.6673\n",
            "Epoch 20/200\n",
            "220/220 [==============================] - 9s 42ms/step - loss: 0.8285 - accuracy: 0.6927 - val_loss: 0.8803 - val_accuracy: 0.6740\n",
            "Epoch 21/200\n",
            "220/220 [==============================] - 9s 42ms/step - loss: 0.8262 - accuracy: 0.6930 - val_loss: 0.8879 - val_accuracy: 0.6640\n",
            "\n",
            "Epoch 00021: ReduceLROnPlateau reducing learning rate to 2.499999936844688e-05.\n",
            "Epoch 22/200\n",
            "220/220 [==============================] - 9s 42ms/step - loss: 0.8112 - accuracy: 0.7024 - val_loss: 0.8712 - val_accuracy: 0.6767\n",
            "Epoch 23/200\n",
            "220/220 [==============================] - 9s 42ms/step - loss: 0.8104 - accuracy: 0.7002 - val_loss: 0.8770 - val_accuracy: 0.6717\n",
            "Epoch 24/200\n",
            "220/220 [==============================] - 9s 42ms/step - loss: 0.8067 - accuracy: 0.7046 - val_loss: 0.8786 - val_accuracy: 0.6730\n",
            "\n",
            "Epoch 00024: ReduceLROnPlateau reducing learning rate to 1.249999968422344e-05.\n",
            "Epoch 25/200\n",
            "220/220 [==============================] - 9s 43ms/step - loss: 0.8010 - accuracy: 0.7074 - val_loss: 0.8646 - val_accuracy: 0.6773\n",
            "Epoch 26/200\n",
            "220/220 [==============================] - 9s 42ms/step - loss: 0.7984 - accuracy: 0.7092 - val_loss: 0.8632 - val_accuracy: 0.6800\n",
            "Epoch 27/200\n",
            "220/220 [==============================] - 9s 42ms/step - loss: 0.8003 - accuracy: 0.7069 - val_loss: 0.8612 - val_accuracy: 0.6807\n",
            "Epoch 28/200\n",
            "220/220 [==============================] - 9s 42ms/step - loss: 0.7955 - accuracy: 0.7108 - val_loss: 0.8595 - val_accuracy: 0.6833\n",
            "Epoch 29/200\n",
            "220/220 [==============================] - 9s 42ms/step - loss: 0.7952 - accuracy: 0.7076 - val_loss: 0.8637 - val_accuracy: 0.6790\n",
            "Epoch 30/200\n",
            "220/220 [==============================] - 9s 42ms/step - loss: 0.7941 - accuracy: 0.7090 - val_loss: 0.8605 - val_accuracy: 0.6787\n",
            "Epoch 31/200\n",
            "220/220 [==============================] - 9s 42ms/step - loss: 0.7931 - accuracy: 0.7103 - val_loss: 0.8654 - val_accuracy: 0.6790\n",
            "\n",
            "Epoch 00031: ReduceLROnPlateau reducing learning rate to 1e-05.\n",
            "Epoch 32/200\n",
            "220/220 [==============================] - 9s 42ms/step - loss: 0.7912 - accuracy: 0.7111 - val_loss: 0.8598 - val_accuracy: 0.6853\n",
            "Epoch 33/200\n",
            "220/220 [==============================] - 9s 42ms/step - loss: 0.7897 - accuracy: 0.7133 - val_loss: 0.8568 - val_accuracy: 0.6847\n",
            "Epoch 34/200\n",
            "220/220 [==============================] - 9s 42ms/step - loss: 0.7891 - accuracy: 0.7121 - val_loss: 0.8560 - val_accuracy: 0.6853\n",
            "Epoch 35/200\n",
            "220/220 [==============================] - 9s 42ms/step - loss: 0.7875 - accuracy: 0.7111 - val_loss: 0.8592 - val_accuracy: 0.6787\n",
            "Epoch 36/200\n",
            "220/220 [==============================] - 9s 42ms/step - loss: 0.7874 - accuracy: 0.7138 - val_loss: 0.8544 - val_accuracy: 0.6877\n",
            "Epoch 37/200\n",
            "220/220 [==============================] - 9s 42ms/step - loss: 0.7862 - accuracy: 0.7141 - val_loss: 0.8540 - val_accuracy: 0.6837\n",
            "Epoch 38/200\n",
            "220/220 [==============================] - 9s 42ms/step - loss: 0.7853 - accuracy: 0.7131 - val_loss: 0.8582 - val_accuracy: 0.6830\n",
            "Epoch 39/200\n",
            "220/220 [==============================] - 9s 42ms/step - loss: 0.7844 - accuracy: 0.7141 - val_loss: 0.8575 - val_accuracy: 0.6803\n",
            "Epoch 40/200\n",
            "220/220 [==============================] - 9s 42ms/step - loss: 0.7845 - accuracy: 0.7161 - val_loss: 0.8534 - val_accuracy: 0.6850\n",
            "Epoch 41/200\n",
            "220/220 [==============================] - 9s 42ms/step - loss: 0.7824 - accuracy: 0.7136 - val_loss: 0.8525 - val_accuracy: 0.6840\n",
            "Epoch 42/200\n",
            "220/220 [==============================] - 9s 42ms/step - loss: 0.7822 - accuracy: 0.7113 - val_loss: 0.8545 - val_accuracy: 0.6880\n",
            "Epoch 43/200\n",
            "220/220 [==============================] - 9s 43ms/step - loss: 0.7810 - accuracy: 0.7172 - val_loss: 0.8544 - val_accuracy: 0.6867\n",
            "Epoch 44/200\n",
            "220/220 [==============================] - 9s 42ms/step - loss: 0.7796 - accuracy: 0.7155 - val_loss: 0.8519 - val_accuracy: 0.6870\n",
            "Epoch 45/200\n",
            "220/220 [==============================] - 9s 42ms/step - loss: 0.7799 - accuracy: 0.7165 - val_loss: 0.8507 - val_accuracy: 0.6850\n",
            "Epoch 46/200\n",
            "220/220 [==============================] - 9s 42ms/step - loss: 0.7778 - accuracy: 0.7173 - val_loss: 0.8501 - val_accuracy: 0.6847\n",
            "Epoch 47/200\n",
            "220/220 [==============================] - 9s 42ms/step - loss: 0.7769 - accuracy: 0.7181 - val_loss: 0.8486 - val_accuracy: 0.6857\n",
            "Epoch 48/200\n",
            "220/220 [==============================] - 9s 42ms/step - loss: 0.7765 - accuracy: 0.7183 - val_loss: 0.8519 - val_accuracy: 0.6867\n",
            "Epoch 49/200\n",
            "220/220 [==============================] - 9s 42ms/step - loss: 0.7755 - accuracy: 0.7179 - val_loss: 0.8506 - val_accuracy: 0.6877\n",
            "Epoch 50/200\n",
            "220/220 [==============================] - 9s 42ms/step - loss: 0.7737 - accuracy: 0.7178 - val_loss: 0.8494 - val_accuracy: 0.6860\n",
            "Epoch 51/200\n",
            "220/220 [==============================] - 9s 42ms/step - loss: 0.7734 - accuracy: 0.7189 - val_loss: 0.8459 - val_accuracy: 0.6883\n",
            "Epoch 52/200\n",
            "220/220 [==============================] - 9s 42ms/step - loss: 0.7729 - accuracy: 0.7181 - val_loss: 0.8463 - val_accuracy: 0.6903\n",
            "Epoch 53/200\n",
            "220/220 [==============================] - 9s 42ms/step - loss: 0.7720 - accuracy: 0.7189 - val_loss: 0.8462 - val_accuracy: 0.6907\n",
            "Epoch 54/200\n",
            "220/220 [==============================] - 9s 42ms/step - loss: 0.7708 - accuracy: 0.7207 - val_loss: 0.8494 - val_accuracy: 0.6833\n",
            "Epoch 55/200\n",
            "220/220 [==============================] - 9s 42ms/step - loss: 0.7703 - accuracy: 0.7200 - val_loss: 0.8435 - val_accuracy: 0.6900\n",
            "Epoch 56/200\n",
            "220/220 [==============================] - 9s 42ms/step - loss: 0.7692 - accuracy: 0.7203 - val_loss: 0.8434 - val_accuracy: 0.6880\n",
            "Epoch 57/200\n",
            "220/220 [==============================] - 9s 42ms/step - loss: 0.7685 - accuracy: 0.7198 - val_loss: 0.8431 - val_accuracy: 0.6923\n",
            "Epoch 58/200\n",
            "220/220 [==============================] - 9s 42ms/step - loss: 0.7673 - accuracy: 0.7194 - val_loss: 0.8429 - val_accuracy: 0.6907\n",
            "Epoch 59/200\n",
            "220/220 [==============================] - 9s 42ms/step - loss: 0.7664 - accuracy: 0.7219 - val_loss: 0.8429 - val_accuracy: 0.6907\n",
            "Epoch 60/200\n",
            "220/220 [==============================] - 9s 42ms/step - loss: 0.7666 - accuracy: 0.7227 - val_loss: 0.8489 - val_accuracy: 0.6883\n",
            "Epoch 61/200\n",
            "220/220 [==============================] - 9s 42ms/step - loss: 0.7651 - accuracy: 0.7220 - val_loss: 0.8414 - val_accuracy: 0.6943\n",
            "Epoch 62/200\n",
            "220/220 [==============================] - 9s 42ms/step - loss: 0.7638 - accuracy: 0.7223 - val_loss: 0.8500 - val_accuracy: 0.6817\n",
            "Epoch 63/200\n",
            "220/220 [==============================] - 9s 42ms/step - loss: 0.7644 - accuracy: 0.7218 - val_loss: 0.8405 - val_accuracy: 0.6917\n",
            "Epoch 64/200\n",
            "220/220 [==============================] - 9s 42ms/step - loss: 0.7630 - accuracy: 0.7213 - val_loss: 0.8424 - val_accuracy: 0.6907\n",
            "Epoch 65/200\n",
            "220/220 [==============================] - 9s 42ms/step - loss: 0.7615 - accuracy: 0.7242 - val_loss: 0.8408 - val_accuracy: 0.6940\n",
            "Epoch 66/200\n",
            "220/220 [==============================] - 9s 42ms/step - loss: 0.7610 - accuracy: 0.7236 - val_loss: 0.8395 - val_accuracy: 0.6913\n",
            "Epoch 67/200\n",
            "220/220 [==============================] - 9s 42ms/step - loss: 0.7598 - accuracy: 0.7239 - val_loss: 0.8425 - val_accuracy: 0.6947\n",
            "Epoch 68/200\n",
            "220/220 [==============================] - 9s 42ms/step - loss: 0.7595 - accuracy: 0.7247 - val_loss: 0.8377 - val_accuracy: 0.6917\n",
            "Epoch 69/200\n",
            "220/220 [==============================] - 9s 42ms/step - loss: 0.7584 - accuracy: 0.7241 - val_loss: 0.8384 - val_accuracy: 0.6937\n",
            "Epoch 70/200\n",
            "220/220 [==============================] - 9s 42ms/step - loss: 0.7584 - accuracy: 0.7232 - val_loss: 0.8399 - val_accuracy: 0.6883\n",
            "Epoch 71/200\n",
            "220/220 [==============================] - 9s 42ms/step - loss: 0.7570 - accuracy: 0.7241 - val_loss: 0.8412 - val_accuracy: 0.6900\n",
            "Epoch 72/200\n",
            "220/220 [==============================] - 9s 42ms/step - loss: 0.7565 - accuracy: 0.7262 - val_loss: 0.8367 - val_accuracy: 0.6930\n",
            "Epoch 73/200\n",
            "220/220 [==============================] - 9s 42ms/step - loss: 0.7557 - accuracy: 0.7242 - val_loss: 0.8362 - val_accuracy: 0.6947\n",
            "Epoch 74/200\n",
            "220/220 [==============================] - 9s 42ms/step - loss: 0.7553 - accuracy: 0.7260 - val_loss: 0.8347 - val_accuracy: 0.6947\n",
            "Epoch 75/200\n",
            "220/220 [==============================] - 9s 42ms/step - loss: 0.7545 - accuracy: 0.7260 - val_loss: 0.8445 - val_accuracy: 0.6920\n",
            "Epoch 76/200\n",
            "220/220 [==============================] - 9s 42ms/step - loss: 0.7532 - accuracy: 0.7255 - val_loss: 0.8380 - val_accuracy: 0.6930\n",
            "Epoch 77/200\n",
            "220/220 [==============================] - 9s 42ms/step - loss: 0.7532 - accuracy: 0.7239 - val_loss: 0.8342 - val_accuracy: 0.6953\n",
            "Epoch 78/200\n",
            "220/220 [==============================] - 9s 42ms/step - loss: 0.7518 - accuracy: 0.7276 - val_loss: 0.8352 - val_accuracy: 0.6987\n",
            "Epoch 79/200\n",
            "220/220 [==============================] - 9s 42ms/step - loss: 0.7517 - accuracy: 0.7271 - val_loss: 0.8385 - val_accuracy: 0.6887\n",
            "Epoch 80/200\n",
            "220/220 [==============================] - 9s 42ms/step - loss: 0.7515 - accuracy: 0.7239 - val_loss: 0.8358 - val_accuracy: 0.6917\n",
            "Epoch 81/200\n",
            "220/220 [==============================] - 9s 42ms/step - loss: 0.7497 - accuracy: 0.7275 - val_loss: 0.8330 - val_accuracy: 0.6983\n",
            "Epoch 82/200\n",
            "220/220 [==============================] - 9s 42ms/step - loss: 0.7488 - accuracy: 0.7301 - val_loss: 0.8421 - val_accuracy: 0.6947\n",
            "Epoch 83/200\n",
            "220/220 [==============================] - 9s 42ms/step - loss: 0.7495 - accuracy: 0.7268 - val_loss: 0.8318 - val_accuracy: 0.6980\n",
            "Epoch 84/200\n",
            "220/220 [==============================] - 9s 42ms/step - loss: 0.7476 - accuracy: 0.7276 - val_loss: 0.8344 - val_accuracy: 0.6923\n",
            "Epoch 85/200\n",
            "220/220 [==============================] - 9s 42ms/step - loss: 0.7463 - accuracy: 0.7287 - val_loss: 0.8375 - val_accuracy: 0.6887\n",
            "Epoch 86/200\n",
            "220/220 [==============================] - 9s 42ms/step - loss: 0.7468 - accuracy: 0.7276 - val_loss: 0.8333 - val_accuracy: 0.6960\n",
            "Epoch 87/200\n",
            "220/220 [==============================] - 9s 42ms/step - loss: 0.7454 - accuracy: 0.7295 - val_loss: 0.8340 - val_accuracy: 0.6983\n",
            "Epoch 88/200\n",
            "220/220 [==============================] - 9s 42ms/step - loss: 0.7448 - accuracy: 0.7311 - val_loss: 0.8326 - val_accuracy: 0.6947\n",
            "Epoch 89/200\n",
            "220/220 [==============================] - 9s 42ms/step - loss: 0.7444 - accuracy: 0.7309 - val_loss: 0.8302 - val_accuracy: 0.6973\n",
            "Epoch 90/200\n",
            "220/220 [==============================] - 9s 42ms/step - loss: 0.7436 - accuracy: 0.7309 - val_loss: 0.8312 - val_accuracy: 0.6943\n",
            "Epoch 91/200\n",
            "220/220 [==============================] - 9s 42ms/step - loss: 0.7420 - accuracy: 0.7317 - val_loss: 0.8307 - val_accuracy: 0.6983\n",
            "Epoch 92/200\n",
            "220/220 [==============================] - 9s 42ms/step - loss: 0.7427 - accuracy: 0.7292 - val_loss: 0.8305 - val_accuracy: 0.6997\n",
            "Epoch 93/200\n",
            "220/220 [==============================] - 9s 42ms/step - loss: 0.7419 - accuracy: 0.7314 - val_loss: 0.8287 - val_accuracy: 0.6977\n",
            "Epoch 94/200\n",
            "220/220 [==============================] - 9s 42ms/step - loss: 0.7412 - accuracy: 0.7305 - val_loss: 0.8374 - val_accuracy: 0.6927\n",
            "Epoch 95/200\n",
            "220/220 [==============================] - 9s 42ms/step - loss: 0.7405 - accuracy: 0.7311 - val_loss: 0.8307 - val_accuracy: 0.6960\n",
            "Epoch 96/200\n",
            "220/220 [==============================] - 9s 43ms/step - loss: 0.7391 - accuracy: 0.7309 - val_loss: 0.8294 - val_accuracy: 0.6967\n",
            "Epoch 97/200\n",
            "220/220 [==============================] - 9s 42ms/step - loss: 0.7391 - accuracy: 0.7312 - val_loss: 0.8260 - val_accuracy: 0.6997\n",
            "Epoch 98/200\n",
            "220/220 [==============================] - 9s 42ms/step - loss: 0.7381 - accuracy: 0.7321 - val_loss: 0.8281 - val_accuracy: 0.6963\n",
            "Epoch 99/200\n",
            "220/220 [==============================] - 9s 42ms/step - loss: 0.7377 - accuracy: 0.7315 - val_loss: 0.8277 - val_accuracy: 0.7000\n",
            "Epoch 100/200\n",
            "220/220 [==============================] - 9s 42ms/step - loss: 0.7368 - accuracy: 0.7330 - val_loss: 0.8292 - val_accuracy: 0.6960\n",
            "Epoch 101/200\n",
            "220/220 [==============================] - 9s 42ms/step - loss: 0.7358 - accuracy: 0.7321 - val_loss: 0.8317 - val_accuracy: 0.6953\n",
            "Epoch 102/200\n",
            "220/220 [==============================] - 9s 42ms/step - loss: 0.7354 - accuracy: 0.7324 - val_loss: 0.8286 - val_accuracy: 0.6987\n",
            "Epoch 103/200\n",
            "220/220 [==============================] - 9s 42ms/step - loss: 0.7348 - accuracy: 0.7319 - val_loss: 0.8247 - val_accuracy: 0.7003\n",
            "Epoch 104/200\n",
            "220/220 [==============================] - 9s 42ms/step - loss: 0.7343 - accuracy: 0.7319 - val_loss: 0.8265 - val_accuracy: 0.7003\n",
            "Epoch 105/200\n",
            "220/220 [==============================] - 9s 42ms/step - loss: 0.7332 - accuracy: 0.7351 - val_loss: 0.8268 - val_accuracy: 0.6970\n",
            "Epoch 106/200\n",
            "220/220 [==============================] - 9s 42ms/step - loss: 0.7333 - accuracy: 0.7331 - val_loss: 0.8231 - val_accuracy: 0.7023\n",
            "Epoch 107/200\n",
            "220/220 [==============================] - 9s 43ms/step - loss: 0.7321 - accuracy: 0.7371 - val_loss: 0.8251 - val_accuracy: 0.7010\n",
            "Epoch 108/200\n",
            "220/220 [==============================] - 9s 43ms/step - loss: 0.7312 - accuracy: 0.7335 - val_loss: 0.8258 - val_accuracy: 0.6970\n",
            "Epoch 109/200\n",
            "220/220 [==============================] - 9s 42ms/step - loss: 0.7306 - accuracy: 0.7338 - val_loss: 0.8221 - val_accuracy: 0.7043\n",
            "Epoch 110/200\n",
            "220/220 [==============================] - 9s 42ms/step - loss: 0.7307 - accuracy: 0.7347 - val_loss: 0.8251 - val_accuracy: 0.6977\n",
            "Epoch 111/200\n",
            "220/220 [==============================] - 9s 42ms/step - loss: 0.7292 - accuracy: 0.7341 - val_loss: 0.8215 - val_accuracy: 0.7033\n",
            "Epoch 112/200\n",
            "220/220 [==============================] - 9s 42ms/step - loss: 0.7286 - accuracy: 0.7364 - val_loss: 0.8232 - val_accuracy: 0.7057\n",
            "Epoch 113/200\n",
            "220/220 [==============================] - 9s 42ms/step - loss: 0.7283 - accuracy: 0.7355 - val_loss: 0.8235 - val_accuracy: 0.7020\n",
            "Epoch 114/200\n",
            "220/220 [==============================] - 9s 42ms/step - loss: 0.7285 - accuracy: 0.7364 - val_loss: 0.8246 - val_accuracy: 0.7003\n",
            "Epoch 115/200\n",
            "220/220 [==============================] - 9s 43ms/step - loss: 0.7275 - accuracy: 0.7357 - val_loss: 0.8268 - val_accuracy: 0.6967\n",
            "Epoch 116/200\n",
            "220/220 [==============================] - 9s 42ms/step - loss: 0.7270 - accuracy: 0.7371 - val_loss: 0.8262 - val_accuracy: 0.6940\n",
            "Epoch 117/200\n",
            "220/220 [==============================] - 9s 42ms/step - loss: 0.7253 - accuracy: 0.7375 - val_loss: 0.8218 - val_accuracy: 0.7017\n"
          ],
          "name": "stdout"
        }
      ]
    },
    {
      "cell_type": "code",
      "metadata": {
        "colab": {
          "base_uri": "https://localhost:8080/",
          "height": 0
        },
        "id": "bQaTtNyIf_t7",
        "outputId": "cc9da5df-1e69-44eb-83a8-84e79efb2ec7"
      },
      "source": [
        "lossresnet, accuracyresnet = resnetmodel.evaluate(x_test, y_test, verbose=1, batch_size = 16)\n",
        "lossresnet_v, accuracyresnet_v = resnetmodel.evaluate(X_valid, y_valid, verbose=1)\n",
        "print(\"Validation: accuracy = %f  ;  loss_v = %f\" % (accuracyresnet_v, lossresnet_v))\n",
        "print(\"Test: accuracy = %f  ;  loss = %f\" % (accuracyresnet, lossresnet))\n",
        "resnetmodel.save(\"/content/resnetmodel.h5\")"
      ],
      "execution_count": 30,
      "outputs": [
        {
          "output_type": "stream",
          "text": [
            "457/457 [==============================] - 7s 16ms/step - loss: 0.7768 - accuracy: 0.7069\n",
            "94/94 [==============================] - 2s 23ms/step - loss: 0.8218 - accuracy: 0.7017\n",
            "Validation: accuracy = 0.701667  ;  loss_v = 0.821781\n",
            "Test: accuracy = 0.706930  ;  loss = 0.776809\n"
          ],
          "name": "stdout"
        }
      ]
    },
    {
      "cell_type": "code",
      "metadata": {
        "colab": {
          "base_uri": "https://localhost:8080/",
          "height": 279
        },
        "id": "OiDZPGfuhnbD",
        "outputId": "dc3e3a69-5745-4d5d-c5d6-3b596d0c6725"
      },
      "source": [
        "plt.plot(H_resnet.history['loss'],\n",
        "         label='Train Loss',\n",
        "         c='maroon', ls='-')\n",
        "plt.plot(H_resnet.history['val_loss'],\n",
        "         label='Validation Loss',\n",
        "         c='green',ls='-')\n",
        " \n",
        "plt.xlabel('Epoch')\n",
        "plt.ylabel('loss')\n",
        "plt.legend(loc='upper left')\n",
        "plt.savefig('/content/resnetplot.png')\n",
        "plt.show()"
      ],
      "execution_count": 31,
      "outputs": [
        {
          "output_type": "display_data",
          "data": {
            "image/png": "[encoded data removed]",
            "text/plain": [
              "<Figure size 432x288 with 1 Axes>"
            ]
          },
          "metadata": {
            "tags": [],
            "needs_background": "light"
          }
        }
      ]
    },
    {
      "cell_type": "code",
      "metadata": {
        "colab": {
          "base_uri": "https://localhost:8080/",
          "height": 311
        },
        "id": "TiVHAg51h7UP",
        "outputId": "5ea2953a-c7ff-42e4-fbcd-4276a948a8a6"
      },
      "source": [
        "# Predict the values from the validation dataset\n",
        "Y_predresnet = resnetmodel.predict(x_test)\n",
        "# Convert predictions classes to one hot vectors \n",
        "Y_predresnet_classes = np.argmax(Y_predresnet,axis = 1) \n",
        "# Convert validation observations to one hot vectors\n",
        "Y_true = np.argmax(y_test,axis = 1) \n",
        "# compute the confusion matrix\n",
        "conf_matresnet = confusion_matrix(Y_true, Y_predresnet_classes)\n",
        "\n",
        " \n",
        "\n",
        "# plot the confusion matrix\n",
        "plot_confusion_matrix(conf_matresnet, classes = range(6)) "
      ],
      "execution_count": 32,
      "outputs": [
        {
          "output_type": "display_data",
          "data": {
            "image/png": "[encoded data removed]",
            "text/plain": [
              "<Figure size 432x288 with 2 Axes>"
            ]
          },
          "metadata": {
            "tags": [],
            "needs_background": "light"
          }
        }
      ]
    },
    {
      "cell_type": "code",
      "metadata": {
        "colab": {
          "base_uri": "https://localhost:8080/",
          "height": 0
        },
        "id": "bpjF0yb4iIH9",
        "outputId": "eb908d4e-c0f9-4402-d5d1-807b3b726c67"
      },
      "source": [
        "print(classification_report(Y_true, Y_predresnet_classes, target_names=[\"Building\",\"Forest\", \"Glacier\", 'Mountain', 'Sea', 'street']))"
      ],
      "execution_count": 33,
      "outputs": [
        {
          "output_type": "stream",
          "text": [
            "              precision    recall  f1-score   support\n",
            "\n",
            "    Building       0.73      0.69      0.71      1144\n",
            "      Forest       0.83      0.90      0.86      1166\n",
            "     Glacier       0.68      0.64      0.66      1330\n",
            "    Mountain       0.62      0.71      0.66      1297\n",
            "         Sea       0.64      0.61      0.62      1128\n",
            "      street       0.76      0.70      0.73      1237\n",
            "\n",
            "    accuracy                           0.71      7302\n",
            "   macro avg       0.71      0.71      0.71      7302\n",
            "weighted avg       0.71      0.71      0.71      7302\n",
            "\n"
          ],
          "name": "stdout"
        }
      ]
    },
    {
      "cell_type": "code",
      "metadata": {
        "colab": {
          "base_uri": "https://localhost:8080/",
          "height": 296
        },
        "id": "ctPaAOygiMpt",
        "outputId": "9f84f954-358d-4d3f-d072-cdeff5331876"
      },
      "source": [
        "label_frac_error = 1 - np.diag(conf_matresnet) / np.sum(conf_matresnet, axis=1)\n",
        "plt.bar(np.arange(6),label_frac_error)\n",
        "plt.xlabel('True Label')\n",
        "plt.ylabel('Fraction classified incorrectly')"
      ],
      "execution_count": 34,
      "outputs": [
        {
          "output_type": "execute_result",
          "data": {
            "text/plain": [
              "Text(0, 0.5, 'Fraction classified incorrectly')"
            ]
          },
          "metadata": {
            "tags": []
          },
          "execution_count": 34
        },
        {
          "output_type": "display_data",
          "data": {
            "image/png": "[encoded data removed]",
            "text/plain": [
              "<Figure size 432x288 with 1 Axes>"
            ]
          },
          "metadata": {
            "tags": [],
            "needs_background": "light"
          }
        }
      ]
    },
    {
      "cell_type": "markdown",
      "metadata": {
        "id": "nUJuBE4mjcm8"
      },
      "source": [
        "#InceptionV3 model"
      ]
    },
    {
      "cell_type": "code",
      "metadata": {
        "id": "p2sIv8zVjd8H"
      },
      "source": [
        "import keras.applications as apps\n",
        "inception = apps.InceptionV3(include_top=False, input_shape=(75, 75, 3))"
      ],
      "execution_count": 41,
      "outputs": []
    },
    {
      "cell_type": "code",
      "metadata": {
        "id": "yvFlb9d0kboM"
      },
      "source": [
        "# add new classification layers\n",
        "flat1 = Flatten()(inception.layers[-1].output) # flatten last layer\n",
        "class1 = Dense(1024, activation='relu')(flat1) # add FC layer on previous layer\n",
        "class1 = Dense(512, activation='relu')(flat1) # add FC layer on previous layer\n",
        "output = Dense(6, activation='softmax')(class1) # add softmax layer"
      ],
      "execution_count": 42,
      "outputs": []
    },
    {
      "cell_type": "code",
      "metadata": {
        "id": "XFzDDo9Zkls8"
      },
      "source": [
        "# define the new model\n",
        "inceptionmodel = Model(inputs=inception.inputs, outputs=output)\n",
        "for layer in inception.layers:\n",
        "  layer.trainable = False"
      ],
      "execution_count": 43,
      "outputs": []
    },
    {
      "cell_type": "code",
      "metadata": {
        "id": "E2gwtGOzkpKx"
      },
      "source": [
        "inceptionmodel.compile(loss='categorical_crossentropy', \n",
        "              optimizer=adam,\n",
        "              metrics=['accuracy'])"
      ],
      "execution_count": 44,
      "outputs": []
    },
    {
      "cell_type": "code",
      "metadata": {
        "colab": {
          "base_uri": "https://localhost:8080/",
          "height": 0
        },
        "id": "sYHppeyMktGY",
        "outputId": "1794050d-14b1-40dd-9a10-7a3604257257"
      },
      "source": [
        "#training the model\n",
        "H_inception = inceptionmodel.fit(X_train, y_train, batch_size=64,\n",
        "              epochs=200, \n",
        "              validation_data=(X_valid, y_valid),\n",
        "              callbacks = [lr_reduction, es])"
      ],
      "execution_count": 45,
      "outputs": [
        {
          "output_type": "stream",
          "text": [
            "Epoch 1/200\n",
            "220/220 [==============================] - 11s 32ms/step - loss: 1.3448 - accuracy: 0.4969 - val_loss: 0.8959 - val_accuracy: 0.6847\n",
            "Epoch 2/200\n",
            "220/220 [==============================] - 6s 25ms/step - loss: 0.8213 - accuracy: 0.7177 - val_loss: 0.7976 - val_accuracy: 0.7120\n",
            "Epoch 3/200\n",
            "220/220 [==============================] - 6s 25ms/step - loss: 0.7456 - accuracy: 0.7408 - val_loss: 0.7531 - val_accuracy: 0.7237\n",
            "Epoch 4/200\n",
            "220/220 [==============================] - 6s 26ms/step - loss: 0.6808 - accuracy: 0.7650 - val_loss: 0.7272 - val_accuracy: 0.7313\n",
            "Epoch 5/200\n",
            "220/220 [==============================] - 6s 26ms/step - loss: 0.6550 - accuracy: 0.7684 - val_loss: 0.7087 - val_accuracy: 0.7387\n",
            "Epoch 6/200\n",
            "220/220 [==============================] - 6s 25ms/step - loss: 0.6264 - accuracy: 0.7814 - val_loss: 0.6955 - val_accuracy: 0.7403\n",
            "Epoch 7/200\n",
            "220/220 [==============================] - 6s 25ms/step - loss: 0.6085 - accuracy: 0.7880 - val_loss: 0.6850 - val_accuracy: 0.7437\n",
            "Epoch 8/200\n",
            "220/220 [==============================] - 6s 25ms/step - loss: 0.6029 - accuracy: 0.7919 - val_loss: 0.6768 - val_accuracy: 0.7460\n",
            "Epoch 9/200\n",
            "220/220 [==============================] - 6s 25ms/step - loss: 0.5843 - accuracy: 0.7964 - val_loss: 0.6702 - val_accuracy: 0.7490\n",
            "Epoch 10/200\n",
            "220/220 [==============================] - 6s 26ms/step - loss: 0.5592 - accuracy: 0.8050 - val_loss: 0.6646 - val_accuracy: 0.7510\n",
            "Epoch 11/200\n",
            "220/220 [==============================] - 6s 25ms/step - loss: 0.5435 - accuracy: 0.8113 - val_loss: 0.6591 - val_accuracy: 0.7530\n",
            "Epoch 12/200\n",
            "220/220 [==============================] - 6s 25ms/step - loss: 0.5341 - accuracy: 0.8112 - val_loss: 0.6563 - val_accuracy: 0.7550\n",
            "Epoch 13/200\n",
            "220/220 [==============================] - 6s 25ms/step - loss: 0.5238 - accuracy: 0.8193 - val_loss: 0.6511 - val_accuracy: 0.7540\n",
            "Epoch 14/200\n",
            "220/220 [==============================] - 5s 25ms/step - loss: 0.5155 - accuracy: 0.8221 - val_loss: 0.6486 - val_accuracy: 0.7530\n",
            "Epoch 15/200\n",
            "220/220 [==============================] - 5s 25ms/step - loss: 0.5124 - accuracy: 0.8241 - val_loss: 0.6449 - val_accuracy: 0.7550\n",
            "Epoch 16/200\n",
            "220/220 [==============================] - 6s 25ms/step - loss: 0.5118 - accuracy: 0.8256 - val_loss: 0.6426 - val_accuracy: 0.7563\n",
            "Epoch 17/200\n",
            "220/220 [==============================] - 6s 26ms/step - loss: 0.5002 - accuracy: 0.8247 - val_loss: 0.6403 - val_accuracy: 0.7567\n",
            "Epoch 18/200\n",
            "220/220 [==============================] - 6s 26ms/step - loss: 0.4885 - accuracy: 0.8321 - val_loss: 0.6381 - val_accuracy: 0.7593\n",
            "Epoch 19/200\n",
            "220/220 [==============================] - 6s 26ms/step - loss: 0.4856 - accuracy: 0.8338 - val_loss: 0.6368 - val_accuracy: 0.7620\n",
            "Epoch 20/200\n",
            "220/220 [==============================] - 6s 25ms/step - loss: 0.4771 - accuracy: 0.8335 - val_loss: 0.6346 - val_accuracy: 0.7620\n",
            "Epoch 21/200\n",
            "220/220 [==============================] - 6s 25ms/step - loss: 0.4684 - accuracy: 0.8381 - val_loss: 0.6330 - val_accuracy: 0.7590\n",
            "Epoch 22/200\n",
            "220/220 [==============================] - 6s 25ms/step - loss: 0.4724 - accuracy: 0.8357 - val_loss: 0.6318 - val_accuracy: 0.7620\n",
            "Epoch 23/200\n",
            "220/220 [==============================] - 6s 25ms/step - loss: 0.4637 - accuracy: 0.8393 - val_loss: 0.6310 - val_accuracy: 0.7597\n",
            "Epoch 24/200\n",
            "220/220 [==============================] - 6s 25ms/step - loss: 0.4648 - accuracy: 0.8433 - val_loss: 0.6303 - val_accuracy: 0.7633\n",
            "Epoch 25/200\n",
            "220/220 [==============================] - 6s 25ms/step - loss: 0.4482 - accuracy: 0.8483 - val_loss: 0.6290 - val_accuracy: 0.7603\n",
            "Epoch 26/200\n",
            "220/220 [==============================] - 6s 25ms/step - loss: 0.4380 - accuracy: 0.8513 - val_loss: 0.6287 - val_accuracy: 0.7620\n",
            "Epoch 27/200\n",
            "220/220 [==============================] - 6s 25ms/step - loss: 0.4386 - accuracy: 0.8484 - val_loss: 0.6271 - val_accuracy: 0.7623\n",
            "Epoch 28/200\n",
            "220/220 [==============================] - 6s 25ms/step - loss: 0.4285 - accuracy: 0.8561 - val_loss: 0.6262 - val_accuracy: 0.7607\n",
            "Epoch 29/200\n",
            "220/220 [==============================] - 5s 25ms/step - loss: 0.4216 - accuracy: 0.8604 - val_loss: 0.6255 - val_accuracy: 0.7603\n",
            "Epoch 30/200\n",
            "220/220 [==============================] - 6s 25ms/step - loss: 0.4228 - accuracy: 0.8627 - val_loss: 0.6251 - val_accuracy: 0.7640\n",
            "Epoch 31/200\n",
            "220/220 [==============================] - 6s 26ms/step - loss: 0.4244 - accuracy: 0.8595 - val_loss: 0.6244 - val_accuracy: 0.7660\n",
            "Epoch 32/200\n",
            "220/220 [==============================] - 6s 25ms/step - loss: 0.4144 - accuracy: 0.8650 - val_loss: 0.6233 - val_accuracy: 0.7637\n",
            "Epoch 33/200\n",
            "220/220 [==============================] - 6s 25ms/step - loss: 0.4156 - accuracy: 0.8611 - val_loss: 0.6248 - val_accuracy: 0.7657\n",
            "Epoch 34/200\n",
            "220/220 [==============================] - 6s 26ms/step - loss: 0.4029 - accuracy: 0.8680 - val_loss: 0.6232 - val_accuracy: 0.7667\n",
            "Epoch 35/200\n",
            "220/220 [==============================] - 6s 25ms/step - loss: 0.3913 - accuracy: 0.8697 - val_loss: 0.6228 - val_accuracy: 0.7663\n",
            "Epoch 36/200\n",
            "220/220 [==============================] - 6s 25ms/step - loss: 0.4065 - accuracy: 0.8665 - val_loss: 0.6231 - val_accuracy: 0.7663\n",
            "Epoch 37/200\n",
            "220/220 [==============================] - 6s 25ms/step - loss: 0.3872 - accuracy: 0.8745 - val_loss: 0.6228 - val_accuracy: 0.7660\n",
            "Epoch 38/200\n",
            "220/220 [==============================] - 6s 26ms/step - loss: 0.3827 - accuracy: 0.8775 - val_loss: 0.6222 - val_accuracy: 0.7663\n",
            "Epoch 39/200\n",
            "220/220 [==============================] - 6s 25ms/step - loss: 0.3815 - accuracy: 0.8742 - val_loss: 0.6224 - val_accuracy: 0.7670\n",
            "Epoch 40/200\n",
            "220/220 [==============================] - 6s 25ms/step - loss: 0.3797 - accuracy: 0.8777 - val_loss: 0.6229 - val_accuracy: 0.7670\n",
            "Epoch 41/200\n",
            "220/220 [==============================] - 6s 25ms/step - loss: 0.3742 - accuracy: 0.8791 - val_loss: 0.6224 - val_accuracy: 0.7673\n",
            "Epoch 42/200\n",
            "220/220 [==============================] - 6s 25ms/step - loss: 0.3772 - accuracy: 0.8797 - val_loss: 0.6231 - val_accuracy: 0.7683\n",
            "Epoch 43/200\n",
            "220/220 [==============================] - 6s 26ms/step - loss: 0.3736 - accuracy: 0.8781 - val_loss: 0.6222 - val_accuracy: 0.7673\n",
            "Epoch 44/200\n",
            "220/220 [==============================] - 6s 25ms/step - loss: 0.3567 - accuracy: 0.8854 - val_loss: 0.6235 - val_accuracy: 0.7687\n"
          ],
          "name": "stdout"
        }
      ]
    },
    {
      "cell_type": "code",
      "metadata": {
        "colab": {
          "base_uri": "https://localhost:8080/",
          "height": 0
        },
        "id": "iDi0B_Vukzss",
        "outputId": "2b0d4796-6cf0-4512-a136-0894af30d796"
      },
      "source": [
        "lossinception, accuracyinception = inceptionmodel.evaluate(x_test, y_test, verbose=1, batch_size = 16)\n",
        "lossinception_v, accuracyinception_v = inceptionmodel.evaluate(X_valid, y_valid, verbose=1)\n",
        "print(\"Validation: accuracy = %f  ;  loss_v = %f\" % (accuracyresnet_v, lossresnet_v))\n",
        "print(\"Test: accuracy = %f  ;  loss = %f\" % (accuracyresnet, lossresnet))\n",
        "inceptionmodel.save(\"/content/inceptionmodel.h5\")"
      ],
      "execution_count": 46,
      "outputs": [
        {
          "output_type": "stream",
          "text": [
            "457/457 [==============================] - 6s 13ms/step - loss: 0.5731 - accuracy: 0.7872\n",
            "94/94 [==============================] - 2s 19ms/step - loss: 0.6235 - accuracy: 0.7687\n",
            "Validation: accuracy = 0.701667  ;  loss_v = 0.821781\n",
            "Test: accuracy = 0.706930  ;  loss = 0.776809\n"
          ],
          "name": "stdout"
        }
      ]
    },
    {
      "cell_type": "code",
      "metadata": {
        "colab": {
          "base_uri": "https://localhost:8080/",
          "height": 279
        },
        "id": "6wobuxUmlDE6",
        "outputId": "fdae4cb7-4085-428e-d8b2-61e1861c1580"
      },
      "source": [
        "plt.plot(H_inception.history['loss'],\n",
        "         label='Train Loss',\n",
        "         c='maroon', ls='-')\n",
        "plt.plot(H_inception.history['val_loss'],\n",
        "         label='Validation Loss',\n",
        "         c='green',ls='-')\n",
        " \n",
        "plt.xlabel('Epoch')\n",
        "plt.ylabel('loss')\n",
        "plt.legend(loc='upper left')\n",
        "plt.savefig('/content/inceptionplot.png')\n",
        "plt.show()"
      ],
      "execution_count": 47,
      "outputs": [
        {
          "output_type": "display_data",
          "data": {
            "image/png": "[encoded data removed]",
            "text/plain": [
              "<Figure size 432x288 with 1 Axes>"
            ]
          },
          "metadata": {
            "tags": [],
            "needs_background": "light"
          }
        }
      ]
    },
    {
      "cell_type": "code",
      "metadata": {
        "colab": {
          "base_uri": "https://localhost:8080/",
          "height": 311
        },
        "id": "M9IA0vzclLg1",
        "outputId": "4e823233-66d8-448b-d64a-2d0259526118"
      },
      "source": [
        "# Predict the values from the validation dataset\n",
        "Y_predinception = inceptionmodel.predict(x_test)\n",
        "# Convert predictions classes to one hot vectors \n",
        "Y_predinception_classes = np.argmax(Y_predinception,axis = 1) \n",
        "# Convert validation observations to one hot vectors\n",
        "Y_true = np.argmax(y_test,axis = 1) \n",
        "# compute the confusion matrix\n",
        "conf_matinception = confusion_matrix(Y_true, Y_predinception_classes)\n",
        "\n",
        " \n",
        "\n",
        "# plot the confusion matrix\n",
        "plot_confusion_matrix(conf_matinception, classes = range(6)) "
      ],
      "execution_count": 48,
      "outputs": [
        {
          "output_type": "display_data",
          "data": {
            "image/png": "[encoded data removed]",
            "text/plain": [
              "<Figure size 432x288 with 2 Axes>"
            ]
          },
          "metadata": {
            "tags": [],
            "needs_background": "light"
          }
        }
      ]
    },
    {
      "cell_type": "code",
      "metadata": {
        "colab": {
          "base_uri": "https://localhost:8080/",
          "height": 0
        },
        "id": "UI-wj59jlUmS",
        "outputId": "93b050e5-adee-4689-bc6c-2f2e1c5bc45d"
      },
      "source": [
        "print(classification_report(Y_true, Y_predinception_classes, target_names=[\"Building\",\"Forest\", \"Glacier\", 'Mountain', 'Sea', 'street']))"
      ],
      "execution_count": 49,
      "outputs": [
        {
          "output_type": "stream",
          "text": [
            "              precision    recall  f1-score   support\n",
            "\n",
            "    Building       0.83      0.83      0.83      1144\n",
            "      Forest       0.93      0.96      0.94      1166\n",
            "     Glacier       0.74      0.66      0.70      1330\n",
            "    Mountain       0.68      0.73      0.70      1297\n",
            "         Sea       0.72      0.76      0.74      1128\n",
            "      street       0.84      0.81      0.83      1237\n",
            "\n",
            "    accuracy                           0.79      7302\n",
            "   macro avg       0.79      0.79      0.79      7302\n",
            "weighted avg       0.79      0.79      0.79      7302\n",
            "\n"
          ],
          "name": "stdout"
        }
      ]
    },
    {
      "cell_type": "code",
      "metadata": {
        "colab": {
          "base_uri": "https://localhost:8080/",
          "height": 296
        },
        "id": "ZdrG6VDrlb1D",
        "outputId": "2bf924e9-359b-4328-bdd2-48b558cb5260"
      },
      "source": [
        "label_frac_error = 1 - np.diag(conf_matinception) / np.sum(conf_matinception, axis=1)\n",
        "plt.bar(np.arange(6),label_frac_error)\n",
        "plt.xlabel('True Label')\n",
        "plt.ylabel('Fraction classified incorrectly')"
      ],
      "execution_count": 50,
      "outputs": [
        {
          "output_type": "execute_result",
          "data": {
            "text/plain": [
              "Text(0, 0.5, 'Fraction classified incorrectly')"
            ]
          },
          "metadata": {
            "tags": []
          },
          "execution_count": 50
        },
        {
          "output_type": "display_data",
          "data": {
            "image/png": "[encoded data removed]",
            "text/plain": [
              "<Figure size 432x288 with 1 Axes>"
            ]
          },
          "metadata": {
            "tags": [],
            "needs_background": "light"
          }
        }
      ]
    },
    {
      "cell_type": "code",
      "metadata": {
        "id": "CwAxDkWmvX6s"
      },
      "source": [
        ""
      ],
      "execution_count": null,
      "outputs": []
    }
  ]
}