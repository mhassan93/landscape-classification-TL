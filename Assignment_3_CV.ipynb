{
  "nbformat": 4,
  "nbformat_minor": 0,
  "metadata": {
    "colab": {
      "name": "Assignment 3 CV.ipynb",
      "provenance": [],
      "collapsed_sections": []
    },
    "kernelspec": {
      "name": "python3",
      "display_name": "Python 3"
    },
    "accelerator": "GPU"
  },
  "cells": [
    {
      "cell_type": "code",
      "metadata": {
        "id": "eDuE7UTw57nz"
      },
      "source": [
        "from keras.applications.vgg16 import VGG16\n",
        "from keras.models import Model\n",
        "from keras.layers import Dense\n",
        "from keras.layers import Flatten"
      ],
      "execution_count": 1,
      "outputs": []
    },
    {
      "cell_type": "code",
      "metadata": {
        "id": "nax0sO545_3I"
      },
      "source": [
        "# load VGG16 model without classification layers\n",
        "model = VGG16(include_top=False, input_shape=(75, 75, 3))"
      ],
      "execution_count": 39,
      "outputs": []
    },
    {
      "cell_type": "code",
      "metadata": {
        "id": "3aX0a6hs6BJH"
      },
      "source": [
        "# add new classification layers\n",
        "flat1 = Flatten()(model.layers[-1].output) # flatten last layer\n",
        "class1 = Dense(1024, activation='relu')(flat1) # add FC layer on previous layer\n",
        "class1 = Dense(512, activation='relu')(flat1) # add FC layer on previous layer\n",
        "output = Dense(6, activation='softmax')(class1) # add softmax layer"
      ],
      "execution_count": 40,
      "outputs": []
    },
    {
      "cell_type": "code",
      "metadata": {
        "id": "RlniHAN67twE"
      },
      "source": [
        "# define the new model\n",
        "model = Model(inputs=model.inputs, outputs=output)"
      ],
      "execution_count": 41,
      "outputs": []
    },
    {
      "cell_type": "code",
      "metadata": {
        "id": "d8CK7Z6H7uw3"
      },
      "source": [
        "# necessary imports\n",
        "import os\n",
        "import cv2\n",
        "import numpy as np\n",
        "from imutils import paths\n",
        "from sklearn.preprocessing import LabelBinarizer\n",
        "from tqdm import tqdm"
      ],
      "execution_count": 5,
      "outputs": []
    },
    {
      "cell_type": "code",
      "metadata": {
        "id": "m05Uozoe7wFs"
      },
      "source": [
        "# A function to load data from a given directory\n",
        "def load_data(data_dir):\n",
        "  data = []\n",
        "  labels = []\n",
        "  class_dirs = os.listdir(data_dir)\n",
        "  \n",
        "  for direc in class_dirs:\n",
        "    class_dir = os.path.join(data_dir, direc)\n",
        "    for imagepath in tqdm(list(paths.list_images(class_dir))):\n",
        "      image = cv2.imread(imagepath)\n",
        "      image = cv2.resize(image, (75, 75))  # resizing for uniform size and colab crash issue\n",
        "      data.append(image)\n",
        "      labels.append(direc)\n",
        "  # normalizing and converting to numpy array format\n",
        "  data = np.array(data, dtype='float')/255.0\n",
        "  labels = np.array(labels)\n",
        "  return data, labels"
      ],
      "execution_count": 6,
      "outputs": []
    },
    {
      "cell_type": "code",
      "metadata": {
        "id": "9Mdqfqr7rsQd"
      },
      "source": [
        "train_dir = \"/content/drive/MyDrive/Image-Classification-Dataset/seg_train/seg_train/\"\n",
        "test_dir = \"/content/drive/MyDrive/Image-Classification-Dataset/seg_test/seg_test/\"\n",
        "pred_dir = \"/content/drive/MyDrive/Image-Classification-Dataset/test/test/\""
      ],
      "execution_count": 7,
      "outputs": []
    },
    {
      "cell_type": "code",
      "metadata": {
        "id": "9psYEyICrvA0",
        "colab": {
          "base_uri": "https://localhost:8080/"
        },
        "outputId": "08781a09-166d-468e-fd80-b2c293857908"
      },
      "source": [
        "print('loading train images')\n",
        "X_train, y_train = load_data(train_dir)"
      ],
      "execution_count": 8,
      "outputs": [
        {
          "output_type": "stream",
          "text": [
            "loading train images\n"
          ],
          "name": "stdout"
        },
        {
          "output_type": "stream",
          "text": [
            "100%|██████████| 2191/2191 [00:07<00:00, 312.49it/s]\n",
            "100%|██████████| 2271/2271 [00:07<00:00, 303.64it/s]\n",
            "100%|██████████| 2404/2404 [00:07<00:00, 326.27it/s]\n",
            "100%|██████████| 2512/2512 [00:07<00:00, 328.59it/s]\n",
            "100%|██████████| 2382/2382 [00:07<00:00, 316.43it/s]\n",
            "100%|██████████| 2274/2274 [00:06<00:00, 333.96it/s]\n"
          ],
          "name": "stderr"
        }
      ]
    },
    {
      "cell_type": "code",
      "metadata": {
        "id": "5R48bcJ1rwbS",
        "colab": {
          "base_uri": "https://localhost:8080/"
        },
        "outputId": "cfa9ea13-22f5-404f-d549-77050d2c28bf"
      },
      "source": [
        "print('loading validation images')\n",
        "X_valid, y_valid = load_data(test_dir)"
      ],
      "execution_count": 9,
      "outputs": [
        {
          "output_type": "stream",
          "text": [
            "  8%|▊         | 34/437 [00:00<00:01, 335.65it/s]"
          ],
          "name": "stderr"
        },
        {
          "output_type": "stream",
          "text": [
            "loading validation images\n"
          ],
          "name": "stdout"
        },
        {
          "output_type": "stream",
          "text": [
            "100%|██████████| 437/437 [00:01<00:00, 329.57it/s]\n",
            "100%|██████████| 474/474 [00:01<00:00, 311.63it/s]\n",
            "100%|██████████| 553/553 [00:01<00:00, 328.53it/s]\n",
            "100%|██████████| 510/510 [00:01<00:00, 338.15it/s]\n",
            "100%|██████████| 525/525 [00:01<00:00, 343.73it/s]\n",
            "100%|██████████| 501/501 [00:01<00:00, 325.32it/s]\n"
          ],
          "name": "stderr"
        }
      ]
    },
    {
      "cell_type": "code",
      "metadata": {
        "id": "PcGjOH3G_YA7"
      },
      "source": [
        "lb = LabelBinarizer()\n",
        "y_train = lb.fit_transform(y_train)\n",
        "y_valid = lb.fit_transform(y_valid)"
      ],
      "execution_count": 10,
      "outputs": []
    },
    {
      "cell_type": "code",
      "metadata": {
        "id": "jjn0kPzQ_fWV"
      },
      "source": [
        "from keras.optimizers import SGD\n",
        "sgd = SGD(lr=0.001, decay=1e-7, momentum=.9)\n",
        "\n",
        "\n",
        "model.compile(loss='categorical_crossentropy', \n",
        "              optimizer=sgd,\n",
        "              metrics=['accuracy'])\n"
      ],
      "execution_count": 42,
      "outputs": []
    },
    {
      "cell_type": "code",
      "metadata": {
        "colab": {
          "base_uri": "https://localhost:8080/"
        },
        "id": "kdPhqRf4BlDE",
        "outputId": "1e725ead-a152-4c39-9af1-00bc2ba24613"
      },
      "source": [
        "#training without data augmentation\n",
        "H = model.fit(X_train, y_train, batch_size=64,\n",
        "              epochs=10, \n",
        "              validation_data=(X_valid, y_valid))"
      ],
      "execution_count": 43,
      "outputs": [
        {
          "output_type": "stream",
          "text": [
            "Epoch 1/10\n",
            "220/220 [==============================] - 16s 71ms/step - loss: 0.7926 - accuracy: 0.7054 - val_loss: 0.3592 - val_accuracy: 0.8707\n",
            "Epoch 2/10\n",
            "220/220 [==============================] - 16s 71ms/step - loss: 0.2956 - accuracy: 0.8953 - val_loss: 0.2975 - val_accuracy: 0.8820\n",
            "Epoch 3/10\n",
            "220/220 [==============================] - 15s 69ms/step - loss: 0.2256 - accuracy: 0.9198 - val_loss: 0.2773 - val_accuracy: 0.8950\n",
            "Epoch 4/10\n",
            "220/220 [==============================] - 15s 69ms/step - loss: 0.1815 - accuracy: 0.9347 - val_loss: 0.2540 - val_accuracy: 0.9103\n",
            "Epoch 5/10\n",
            "220/220 [==============================] - 15s 69ms/step - loss: 0.1377 - accuracy: 0.9483 - val_loss: 0.2586 - val_accuracy: 0.9160\n",
            "Epoch 6/10\n",
            "220/220 [==============================] - 15s 70ms/step - loss: 0.1083 - accuracy: 0.9614 - val_loss: 0.2572 - val_accuracy: 0.9147\n",
            "Epoch 7/10\n",
            "220/220 [==============================] - 15s 70ms/step - loss: 0.0889 - accuracy: 0.9691 - val_loss: 0.2864 - val_accuracy: 0.8940\n",
            "Epoch 8/10\n",
            "220/220 [==============================] - 16s 71ms/step - loss: 0.0846 - accuracy: 0.9700 - val_loss: 0.2700 - val_accuracy: 0.9087\n",
            "Epoch 9/10\n",
            "220/220 [==============================] - 15s 70ms/step - loss: 0.0495 - accuracy: 0.9847 - val_loss: 0.3184 - val_accuracy: 0.9030\n",
            "Epoch 10/10\n",
            "220/220 [==============================] - 15s 70ms/step - loss: 0.0379 - accuracy: 0.9886 - val_loss: 0.3174 - val_accuracy: 0.9140\n"
          ],
          "name": "stdout"
        }
      ]
    },
    {
      "cell_type": "code",
      "metadata": {
        "id": "qyXD7hL-r4TU"
      },
      "source": [
        "#data augmentation\n",
        "# from keras.preprocessing.image import ImageDataGenerator\n",
        "\n",
        "# datagen = ImageDataGenerator(\n",
        "#         rotation_range=10,  # randomly rotate images in the range (degrees, 0 to 180)\n",
        "#         zoom_range = 0.1, # Randomly zoom image \n",
        "#         width_shift_range=0.1,  # randomly shift images horizontally (fraction of total width)\n",
        "#         height_shift_range=0.1,  # randomly shift images vertically (fraction of total height)\n",
        "#         horizontal_flip=True,  # randomly flip images\n",
        "#         vertical_flip=True)  # randomly flip images\n",
        "\n",
        "# datagen.fit(X_train)"
      ],
      "execution_count": 31,
      "outputs": []
    },
    {
      "cell_type": "code",
      "metadata": {
        "id": "CUkyYl80r5fz"
      },
      "source": [
        "#training with data augmentation\n",
        "# HdAug = model.fit(datagen.flow(X_train, y_train, batch_size=64),\n",
        "#               epochs=10, \n",
        "#               validation_data=(X_valid, y_valid))"
      ],
      "execution_count": null,
      "outputs": []
    },
    {
      "cell_type": "code",
      "metadata": {
        "colab": {
          "base_uri": "https://localhost:8080/"
        },
        "id": "KOK2CT5K_ugP",
        "outputId": "6a2e426a-00b3-472d-a841-d79d31046171"
      },
      "source": [
        "print('loading test images')\n",
        "x_test, y_test = load_data(pred_dir)"
      ],
      "execution_count": 17,
      "outputs": [
        {
          "output_type": "stream",
          "text": [
            "\r  0%|          | 0/1128 [00:00<?, ?it/s]"
          ],
          "name": "stderr"
        },
        {
          "output_type": "stream",
          "text": [
            "loading test images\n"
          ],
          "name": "stdout"
        },
        {
          "output_type": "stream",
          "text": [
            "100%|██████████| 1128/1128 [00:03<00:00, 335.73it/s]\n",
            "100%|██████████| 1166/1166 [00:03<00:00, 310.08it/s]\n",
            "100%|██████████| 1297/1297 [00:03<00:00, 328.66it/s]\n",
            "100%|██████████| 1237/1237 [00:03<00:00, 323.92it/s]\n",
            "100%|██████████| 1144/1144 [00:03<00:00, 322.96it/s]\n",
            "100%|██████████| 1330/1330 [00:04<00:00, 325.82it/s]\n"
          ],
          "name": "stderr"
        }
      ]
    },
    {
      "cell_type": "code",
      "metadata": {
        "id": "3gwBXk1rfGk_"
      },
      "source": [
        "y_test = lb.fit_transform(y_test)"
      ],
      "execution_count": 18,
      "outputs": []
    },
    {
      "cell_type": "code",
      "metadata": {
        "id": "eq5T86Hir710",
        "colab": {
          "base_uri": "https://localhost:8080/"
        },
        "outputId": "782bb467-6d38-4015-d15f-5c77fa22e511"
      },
      "source": [
        "loss, accuracy = model.evaluate(x_test, y_test, verbose=1, batch_size = 64)\n",
        "loss_v, accuracy_v = model.evaluate(X_valid, y_valid, verbose=1)\n",
        "print(\"Validation: accuracy = %f  ;  loss_v = %f\" % (accuracy_v, loss_v))\n",
        "print(\"Test: accuracy = %f  ;  loss = %f\" % (accuracy, loss))\n",
        "model.save(\"/content/dAug-model 128Bat.h5\")"
      ],
      "execution_count": 44,
      "outputs": [
        {
          "output_type": "stream",
          "text": [
            "115/115 [==============================] - 3s 22ms/step - loss: 0.4828 - accuracy: 0.8959\n",
            "94/94 [==============================] - 1s 14ms/step - loss: 0.3174 - accuracy: 0.9140\n",
            "Validation: accuracy = 0.914000  ;  loss_v = 0.317433\n",
            "Test: accuracy = 0.895919  ;  loss = 0.482793\n"
          ],
          "name": "stdout"
        }
      ]
    },
    {
      "cell_type": "code",
      "metadata": {
        "id": "56ociiBnsEH5",
        "colab": {
          "base_uri": "https://localhost:8080/",
          "height": 311
        },
        "outputId": "bf0e3b42-53bc-4f55-f712-79521cbcab16"
      },
      "source": [
        "# Function to plot confusion matrix    \n",
        "from sklearn.metrics import confusion_matrix\n",
        "import itertools\n",
        "import matplotlib.pyplot as plt\n",
        "\n",
        "\n",
        "def plot_confusion_matrix(cm, classes,\n",
        "                          normalize=False,\n",
        "                          title='Confusion matrix',\n",
        "                          cmap=plt.cm.Blues):\n",
        "    \"\"\"\n",
        "    This function prints and plots the confusion matrix.\n",
        "    Normalization can be applied by setting `normalize=True`.\n",
        "    \"\"\"\n",
        "    plt.imshow(cm, interpolation='nearest', cmap=cmap)\n",
        "    plt.title(title)\n",
        "    plt.colorbar()\n",
        "    tick_marks = np.arange(len(classes))\n",
        "    plt.xticks(tick_marks, classes, rotation=45)\n",
        "    plt.yticks(tick_marks, classes)\n",
        "\n",
        "    if normalize:\n",
        "        cm = cm.astype('float') / cm.sum(axis=1)[:, np.newaxis]\n",
        "\n",
        "    thresh = cm.max() / 2.\n",
        "    for i, j in itertools.product(range(cm.shape[0]), range(cm.shape[1])):\n",
        "        plt.text(j, i, cm[i, j],\n",
        "                 horizontalalignment=\"center\",\n",
        "                 color=\"white\" if cm[i, j] > thresh else \"black\")\n",
        "\n",
        "    plt.tight_layout()\n",
        "    plt.ylabel('True label')\n",
        "    plt.xlabel('Predicted label')\n",
        "\n",
        "# Predict the values from the validation dataset\n",
        "Y_pred = model.predict(x_test)\n",
        "# Convert predictions classes to one hot vectors \n",
        "Y_pred_classes = np.argmax(Y_pred,axis = 1) \n",
        "# Convert validation observations to one hot vectors\n",
        "Y_true = np.argmax(y_test,axis = 1) \n",
        "# compute the confusion matrix\n",
        "confusion_mtx = confusion_matrix(Y_true, Y_pred_classes)\n",
        "\n",
        " \n",
        "\n",
        "# plot the confusion matrix\n",
        "plot_confusion_matrix(confusion_mtx, classes = range(6)) "
      ],
      "execution_count": 46,
      "outputs": [
        {
          "output_type": "display_data",
          "data": {
            "image/png": "[encoded data removed]",
            "text/plain": [
              "<Figure size 432x288 with 2 Axes>"
            ]
          },
          "metadata": {
            "tags": [],
            "needs_background": "light"
          }
        }
      ]
    },
    {
      "cell_type": "code",
      "metadata": {
        "id": "TgN0mESAsGmN",
        "colab": {
          "base_uri": "https://localhost:8080/",
          "height": 296
        },
        "outputId": "9acb1f6a-8545-46fe-840e-8ebaa421fe15"
      },
      "source": [
        "label_frac_error = 1 - np.diag(confusion_mtx) / np.sum(confusion_mtx, axis=1)\n",
        "plt.bar(np.arange(6),label_frac_error)\n",
        "plt.xlabel('True Label')\n",
        "plt.ylabel('Fraction classified incorrectly')"
      ],
      "execution_count": 47,
      "outputs": [
        {
          "output_type": "execute_result",
          "data": {
            "text/plain": [
              "Text(0, 0.5, 'Fraction classified incorrectly')"
            ]
          },
          "metadata": {
            "tags": []
          },
          "execution_count": 47
        },
        {
          "output_type": "display_data",
          "data": {
            "image/png": "[encoded data removed]",
            "text/plain": [
              "<Figure size 432x288 with 1 Axes>"
            ]
          },
          "metadata": {
            "tags": [],
            "needs_background": "light"
          }
        }
      ]
    },
    {
      "cell_type": "code",
      "metadata": {
        "id": "7rU9zGJlf9IY"
      },
      "source": [
        ""
      ],
      "execution_count": null,
      "outputs": []
    }
  ]
}